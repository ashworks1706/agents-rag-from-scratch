{
 "cells": [
  {
   "cell_type": "markdown",
   "id": "a36be9c2",
   "metadata": {},
   "source": [
    "# Retrieval Augmented Generation Deep Dive "
   ]
  },
  {
   "cell_type": "markdown",
   "id": "389560b9",
   "metadata": {},
   "source": [
    "In this notebook, i'll be using Langchain, LangServe, LangGraph, LangGraph Studio and LangSmith family for building and exploring RAG from scratch and teh tehcniques we can do with Agents"
   ]
  },
  {
   "cell_type": "markdown",
   "id": "2aedb5de",
   "metadata": {},
   "source": [
    "### Brief History"
   ]
  },
  {
   "cell_type": "markdown",
   "id": "d0100815",
   "metadata": {},
   "source": [
    "## Introduction"
   ]
  },
  {
   "cell_type": "markdown",
   "id": "6bb53c25",
   "metadata": {},
   "source": [
    "### Agents"
   ]
  },
  {
   "cell_type": "markdown",
   "id": "2d6bd7ab",
   "metadata": {},
   "source": [
    "#### Prompt chaining workflow\n"
   ]
  },
  {
   "cell_type": "markdown",
   "id": "074370da",
   "metadata": {},
   "source": [
    "##### LangChain PromptTemplate\n"
   ]
  },
  {
   "cell_type": "markdown",
   "id": "f2f65947",
   "metadata": {},
   "source": [
    "##### LangChain ChatPromptTemplate\n"
   ]
  },
  {
   "cell_type": "markdown",
   "id": "ab5ae2bd",
   "metadata": {},
   "source": [
    "##### LangGraph StateGraph Chains"
   ]
  },
  {
   "cell_type": "markdown",
   "id": "df0edd85",
   "metadata": {},
   "source": [
    "#### Context Management"
   ]
  },
  {
   "cell_type": "markdown",
   "id": "e0f12727",
   "metadata": {},
   "source": [
    "##### LangChain ConversationBufferMemory"
   ]
  },
  {
   "cell_type": "markdown",
   "id": "e7832c6b",
   "metadata": {},
   "source": [
    "##### LangChain ConversationSummaryMemory\n"
   ]
  },
  {
   "cell_type": "markdown",
   "id": "4bc1b74d",
   "metadata": {},
   "source": [
    "##### LangChain ConversationBufferWindowMemory\n"
   ]
  },
  {
   "cell_type": "markdown",
   "id": "f9966adc",
   "metadata": {},
   "source": [
    "##### LangChain ConversationTokenBufferMemory\n"
   ]
  },
  {
   "cell_type": "markdown",
   "id": "b5b91eec",
   "metadata": {},
   "source": [
    "##### LangGraph MemorySaver\n"
   ]
  },
  {
   "cell_type": "markdown",
   "id": "a76a3b30",
   "metadata": {},
   "source": [
    "##### LangGraph MessagesState\n"
   ]
  },
  {
   "cell_type": "markdown",
   "id": "298933fa",
   "metadata": {},
   "source": [
    "##### LlamaIndex ChatMemoryBuffer\n"
   ]
  },
  {
   "cell_type": "markdown",
   "id": "c6b69c7f",
   "metadata": {},
   "source": [
    "\n",
    "\n",
    "\n",
    "\n",
    "\n",
    "\n",
    "##### LlamaIndex VectorMemory"
   ]
  },
  {
   "cell_type": "markdown",
   "id": "6beac902",
   "metadata": {},
   "source": [
    "#### Routing Workflow\n",
    "\n"
   ]
  },
  {
   "cell_type": "markdown",
   "id": "edd982d2",
   "metadata": {},
   "source": [
    "#### Parallelization Workflow\n",
    "\n"
   ]
  },
  {
   "cell_type": "markdown",
   "id": "aa8e6ba0",
   "metadata": {},
   "source": [
    "##### LangGraph Parallel Execution\n"
   ]
  },
  {
   "cell_type": "markdown",
   "id": "4f939acc",
   "metadata": {},
   "source": [
    "##### LangChain RunnableParallel"
   ]
  },
  {
   "cell_type": "markdown",
   "id": "2c0092dd",
   "metadata": {},
   "source": [
    "#### Orchestrator Workers Workflow\n",
    "\n"
   ]
  },
  {
   "cell_type": "markdown",
   "id": "f52e371d",
   "metadata": {},
   "source": [
    "##### LangGraph Multi-Agent Patterns\n"
   ]
  },
  {
   "cell_type": "markdown",
   "id": "79e1de84",
   "metadata": {},
   "source": [
    "##### LangChain Agent Executors\n"
   ]
  },
  {
   "cell_type": "markdown",
   "id": "7e5567e2",
   "metadata": {},
   "source": [
    "##### LlamaIndex AgentRunner"
   ]
  },
  {
   "cell_type": "markdown",
   "id": "b89e3e6c",
   "metadata": {},
   "source": [
    "### But Why RAG?\n",
    "\n",
    "Talk about LLM system in general, while introducing agents, where those workflows lack the limit of llms in context and actions"
   ]
  },
  {
   "cell_type": "markdown",
   "id": "5cc169c2",
   "metadata": {},
   "source": [
    "### Finding the Data"
   ]
  },
  {
   "cell_type": "markdown",
   "id": "3d1a060c",
   "metadata": {},
   "source": [
    "#### Webscraping\n"
   ]
  },
  {
   "cell_type": "markdown",
   "id": "58c3655c",
   "metadata": {},
   "source": [
    "##### LangChain WebBaseLoader\n"
   ]
  },
  {
   "cell_type": "markdown",
   "id": "a3d21253",
   "metadata": {},
   "source": [
    "##### LangChain AsyncHtmlLoader\n"
   ]
  },
  {
   "cell_type": "markdown",
   "id": "6c76a4f4",
   "metadata": {},
   "source": [
    "##### LangChain SitemapLoader\n"
   ]
  },
  {
   "cell_type": "markdown",
   "id": "2016c6e8",
   "metadata": {},
   "source": [
    "##### LangChain PlaywrightURLLoader\n"
   ]
  },
  {
   "cell_type": "markdown",
   "id": "19028a8c",
   "metadata": {},
   "source": [
    "##### LlamaIndex SimpleWebPageReader\n"
   ]
  },
  {
   "cell_type": "markdown",
   "id": "326287d8",
   "metadata": {},
   "source": [
    "\n",
    "##### LlamaIndex BeautifulSoupWebReader"
   ]
  },
  {
   "cell_type": "markdown",
   "id": "599d7a17",
   "metadata": {},
   "source": [
    "#### Document Loading\n"
   ]
  },
  {
   "cell_type": "markdown",
   "id": "a9cc20e9",
   "metadata": {},
   "source": [
    "##### LangChain PyPDFLoader\n"
   ]
  },
  {
   "cell_type": "markdown",
   "id": "c6bb7df0",
   "metadata": {},
   "source": [
    "##### LangChain UnstructuredFileLoader\n"
   ]
  },
  {
   "cell_type": "markdown",
   "id": "12af53d8",
   "metadata": {},
   "source": [
    "##### LangChain CSVLoader\n"
   ]
  },
  {
   "cell_type": "markdown",
   "id": "af499259",
   "metadata": {},
   "source": [
    "##### LangChain JSONLoader\n"
   ]
  },
  {
   "cell_type": "markdown",
   "id": "70654f7e",
   "metadata": {},
   "source": [
    "##### LlamaIndex SimpleDirectoryReader\n"
   ]
  },
  {
   "cell_type": "markdown",
   "id": "f9a64221",
   "metadata": {},
   "source": [
    "##### LlamaIndex PDFReader"
   ]
  },
  {
   "cell_type": "markdown",
   "id": "ffc25e03",
   "metadata": {},
   "source": [
    "### Preprocessing the documents"
   ]
  },
  {
   "cell_type": "markdown",
   "id": "bafbf6bd",
   "metadata": {},
   "source": [
    "#### Splitting\n"
   ]
  },
  {
   "cell_type": "markdown",
   "id": "b5f88889",
   "metadata": {},
   "source": [
    "##### LangChain RecursiveCharacterTextSplitter\n"
   ]
  },
  {
   "cell_type": "markdown",
   "id": "c5a690a5",
   "metadata": {},
   "source": [
    "##### LangChain TokenTextSplitter\n"
   ]
  },
  {
   "cell_type": "markdown",
   "id": "48f31dec",
   "metadata": {},
   "source": [
    "##### LangChain MarkdownHeaderTextSplitter\n"
   ]
  },
  {
   "cell_type": "markdown",
   "id": "20168248",
   "metadata": {},
   "source": [
    "##### LangChain PythonCodeTextSplitter\n"
   ]
  },
  {
   "cell_type": "markdown",
   "id": "cca0bcfd",
   "metadata": {},
   "source": [
    "##### LlamaIndex SentenceSplitter\n"
   ]
  },
  {
   "cell_type": "markdown",
   "id": "dbe4dd95",
   "metadata": {},
   "source": [
    "##### LlamaIndex SemanticSplitterNodeParser\n"
   ]
  },
  {
   "cell_type": "markdown",
   "id": "32531064",
   "metadata": {},
   "source": [
    "##### LlamaIndex HierarchicalNodeParser"
   ]
  },
  {
   "cell_type": "markdown",
   "id": "00bfbca2",
   "metadata": {},
   "source": [
    "#### Chunking\n",
    "\n"
   ]
  },
  {
   "cell_type": "markdown",
   "id": "ccc8df09",
   "metadata": {},
   "source": [
    "##### LangChain SemanticChunker\n"
   ]
  },
  {
   "cell_type": "markdown",
   "id": "5a2d5275",
   "metadata": {},
   "source": [
    "##### LangChain ParentDocumentRetriever\n"
   ]
  },
  {
   "cell_type": "markdown",
   "id": "9fe7efeb",
   "metadata": {},
   "source": [
    "##### LlamaIndex SimpleNodeParser\n"
   ]
  },
  {
   "cell_type": "markdown",
   "id": "213b604a",
   "metadata": {},
   "source": [
    "##### LlamaIndex SentenceWindowNodeParser"
   ]
  },
  {
   "cell_type": "markdown",
   "id": "488d351c",
   "metadata": {},
   "source": [
    "#### Embedding\n"
   ]
  },
  {
   "cell_type": "markdown",
   "id": "8324ddcb",
   "metadata": {},
   "source": [
    "##### LangChain OpenAIEmbeddings\n"
   ]
  },
  {
   "cell_type": "markdown",
   "id": "c6ab8dda",
   "metadata": {},
   "source": [
    "##### LangChain HuggingFaceEmbeddings\n"
   ]
  },
  {
   "cell_type": "markdown",
   "id": "10ec7aca",
   "metadata": {},
   "source": [
    "##### LlamaIndex OpenAIEmbedding\n"
   ]
  },
  {
   "cell_type": "markdown",
   "id": "eb47ab6a",
   "metadata": {},
   "source": [
    "\n",
    "##### LlamaIndex HuggingFaceEmbedding"
   ]
  },
  {
   "cell_type": "markdown",
   "id": "00d238e7",
   "metadata": {},
   "source": [
    "### Storing Documents"
   ]
  },
  {
   "cell_type": "markdown",
   "id": "477119b6",
   "metadata": {},
   "source": [
    "#### Vector Databases\n"
   ]
  },
  {
   "cell_type": "markdown",
   "id": "30172c54",
   "metadata": {},
   "source": [
    "##### LangChain Chroma Integration\n"
   ]
  },
  {
   "cell_type": "markdown",
   "id": "64a76543",
   "metadata": {},
   "source": [
    "##### LangChain Pinecone Integration\n"
   ]
  },
  {
   "cell_type": "markdown",
   "id": "9b117522",
   "metadata": {},
   "source": [
    "##### LangChain FAISS Integration\n"
   ]
  },
  {
   "cell_type": "markdown",
   "id": "563d8c52",
   "metadata": {},
   "source": [
    "##### LlamaIndex ChromaVectorStore\n"
   ]
  },
  {
   "cell_type": "markdown",
   "id": "6a255cc0",
   "metadata": {},
   "source": [
    "\n",
    "##### LlamaIndex PineconeVectorStore"
   ]
  },
  {
   "cell_type": "markdown",
   "id": "608dc711",
   "metadata": {},
   "source": [
    "#### Knowledge Graphs\n"
   ]
  },
  {
   "cell_type": "markdown",
   "id": "2e862dd1",
   "metadata": {},
   "source": [
    "##### LangGraph StateGraph\n"
   ]
  },
  {
   "cell_type": "markdown",
   "id": "ec78022c",
   "metadata": {},
   "source": [
    "##### LangChain Neo4jGraph\n"
   ]
  },
  {
   "cell_type": "markdown",
   "id": "45991c4f",
   "metadata": {},
   "source": [
    "\n",
    "##### LlamaIndex KnowledgeGraphIndex"
   ]
  },
  {
   "cell_type": "markdown",
   "id": "f090d616",
   "metadata": {},
   "source": [
    "#### SQL\n"
   ]
  },
  {
   "cell_type": "markdown",
   "id": "b553ab93",
   "metadata": {},
   "source": [
    "##### LangChain SQLDatabase\n"
   ]
  },
  {
   "cell_type": "markdown",
   "id": "6465957c",
   "metadata": {},
   "source": [
    "##### LangChain SQLDatabaseChain\n"
   ]
  },
  {
   "cell_type": "markdown",
   "id": "b154a1a8",
   "metadata": {},
   "source": [
    "\n",
    "##### LlamaIndex SQLStructStoreIndex"
   ]
  },
  {
   "cell_type": "markdown",
   "id": "d8f8555b",
   "metadata": {},
   "source": [
    "### Retrieval Mechanisms"
   ]
  },
  {
   "cell_type": "markdown",
   "id": "7df26eae",
   "metadata": {},
   "source": [
    "#### Vector search\n"
   ]
  },
  {
   "cell_type": "markdown",
   "id": "52e03ebd",
   "metadata": {},
   "source": [
    "##### LangChain VectorStoreRetriever\n"
   ]
  },
  {
   "cell_type": "markdown",
   "id": "5668dc4c",
   "metadata": {},
   "source": [
    "##### LangChain MultiVectorRetriever\n"
   ]
  },
  {
   "cell_type": "markdown",
   "id": "6bf8b81f",
   "metadata": {},
   "source": [
    "##### LlamaIndex VectorIndexRetriever\n"
   ]
  },
  {
   "cell_type": "markdown",
   "id": "f52ecc5a",
   "metadata": {},
   "source": [
    "\n",
    "##### LlamaIndex VectorIndexAutoRetriever"
   ]
  },
  {
   "cell_type": "markdown",
   "id": "4bdcdc80",
   "metadata": {},
   "source": [
    "#### Tree Search"
   ]
  },
  {
   "cell_type": "markdown",
   "id": "083ccf6a",
   "metadata": {},
   "source": [
    "#### Node Search"
   ]
  },
  {
   "cell_type": "markdown",
   "id": "f86c0bcc",
   "metadata": {},
   "source": [
    "#### Hybrid Search\n",
    "\n",
    "##### LangChain EnsembleRetriever\n",
    "##### LangChain BM25Retriever\n",
    "##### LlamaIndex QueryFusionRetriever"
   ]
  },
  {
   "cell_type": "markdown",
   "id": "96e9945c",
   "metadata": {},
   "source": [
    "##### LangChain ConditionalEdge\n"
   ]
  },
  {
   "cell_type": "markdown",
   "id": "13c3f5c5",
   "metadata": {},
   "source": [
    "##### LangGraph Router Patterns\n"
   ]
  },
  {
   "cell_type": "markdown",
   "id": "99707a7f",
   "metadata": {},
   "source": [
    "##### LlamaIndex RouterQueryEngine"
   ]
  },
  {
   "cell_type": "markdown",
   "id": "fdbce248",
   "metadata": {},
   "source": [
    "### Evaluation"
   ]
  },
  {
   "cell_type": "markdown",
   "id": "0c2bacb9",
   "metadata": {},
   "source": [
    "#### Faithfulness & Accuracy"
   ]
  },
  {
   "cell_type": "markdown",
   "id": "f43b7c07",
   "metadata": {},
   "source": [
    "#### RAGAS (RAG Assessment)\n",
    "\n"
   ]
  },
  {
   "cell_type": "markdown",
   "id": "5d187128",
   "metadata": {},
   "source": [
    "##### LangSmith + RAGAS Integration\n"
   ]
  },
  {
   "cell_type": "markdown",
   "id": "ede3d6e4",
   "metadata": {},
   "source": [
    "##### LangChain Evaluation Chains"
   ]
  },
  {
   "cell_type": "markdown",
   "id": "b514c762",
   "metadata": {},
   "source": [
    "#### TruLens RAG Triad\n"
   ]
  },
  {
   "cell_type": "markdown",
   "id": "5ff2ef4c",
   "metadata": {},
   "source": [
    "#### Multi-Agent Metrics\n"
   ]
  },
  {
   "cell_type": "markdown",
   "id": "a315a255",
   "metadata": {},
   "source": [
    "#### Advanced Agentic Patterns"
   ]
  },
  {
   "cell_type": "markdown",
   "id": "a2815e8c",
   "metadata": {},
   "source": [
    "#### Human Evaluation\n"
   ]
  },
  {
   "cell_type": "markdown",
   "id": "1b7e2760",
   "metadata": {},
   "source": [
    "#### LLM-as-Judge\n",
    "\n"
   ]
  },
  {
   "cell_type": "markdown",
   "id": "7bdcbe94",
   "metadata": {},
   "source": [
    "##### LangSmith Tracing\n"
   ]
  },
  {
   "cell_type": "markdown",
   "id": "4e1a7f4c",
   "metadata": {},
   "source": [
    "##### LangSmith Evaluation Datasets\n"
   ]
  },
  {
   "cell_type": "markdown",
   "id": "cadb866f",
   "metadata": {},
   "source": [
    "##### LangSmith Custom Evaluators"
   ]
  },
  {
   "cell_type": "markdown",
   "id": "a0f82ea2",
   "metadata": {},
   "source": [
    "## A Complete Agentic System\n",
    "\n"
   ]
  },
  {
   "cell_type": "markdown",
   "id": "77a72785",
   "metadata": {},
   "source": [
    "##### LangGraph Agent Architecture\n"
   ]
  },
  {
   "cell_type": "markdown",
   "id": "b9799f18",
   "metadata": {},
   "source": [
    "##### LangChain Agent Types (ReAct, Plan-and-Execute)\n"
   ]
  },
  {
   "cell_type": "markdown",
   "id": "31925586",
   "metadata": {},
   "source": [
    "##### LangSmith Agent Monitoring\n"
   ]
  },
  {
   "cell_type": "markdown",
   "id": "26b5da5a",
   "metadata": {},
   "source": [
    "##### LlamaIndex Multi-Agent Orchestrator"
   ]
  },
  {
   "cell_type": "markdown",
   "id": "11448f82",
   "metadata": {},
   "source": [
    "## Limitations & Variations"
   ]
  },
  {
   "cell_type": "markdown",
   "id": "0927ba15",
   "metadata": {},
   "source": [
    "#### RAPTOR"
   ]
  },
  {
   "cell_type": "markdown",
   "id": "9f9a3d4e",
   "metadata": {},
   "source": [
    "#### Self-RAG"
   ]
  },
  {
   "cell_type": "markdown",
   "id": "8ec8d098",
   "metadata": {},
   "source": [
    "#### CRAG"
   ]
  },
  {
   "cell_type": "markdown",
   "id": "73d56e81",
   "metadata": {},
   "source": [
    "#### Adaptive RAG"
   ]
  },
  {
   "cell_type": "markdown",
   "id": "8adba2b0",
   "metadata": {},
   "source": [
    "## Summary"
   ]
  },
  {
   "cell_type": "markdown",
   "id": "d6403629",
   "metadata": {},
   "source": [
    "## Citations"
   ]
  }
 ],
 "metadata": {
  "language_info": {
   "name": "python"
  }
 },
 "nbformat": 4,
 "nbformat_minor": 5
}
