{
 "cells": [
  {
   "cell_type": "markdown",
   "id": "a36be9c2",
   "metadata": {},
   "source": [
    "# Retreival Augmented Generation Deep Dive "
   ]
  },
  {
   "cell_type": "markdown",
   "id": "2aedb5de",
   "metadata": {},
   "source": [
    "### Brief History"
   ]
  },
  {
   "cell_type": "markdown",
   "id": "b89e3e6c",
   "metadata": {},
   "source": [
    "### But Why RAG?"
   ]
  },
  {
   "cell_type": "markdown",
   "id": "48cdaf49",
   "metadata": {},
   "source": [
    "Talk about LLM system in general, while introducing agents, where those workflows lack the limit of llms in context and actions"
   ]
  },
  {
   "cell_type": "markdown",
   "id": "d0100815",
   "metadata": {},
   "source": [
    "## Introduction"
   ]
  },
  {
   "cell_type": "markdown",
   "id": "739f9413",
   "metadata": {},
   "source": [
    "introduce to RAG basic components - finding the documents, preprocessing the documents - splitting, chunking, storing techniques of documents - vector db, sql, KGs , how they work, the mathematical notations and how they're put in industry, why they're effective"
   ]
  },
  {
   "cell_type": "markdown",
   "id": "5cc169c2",
   "metadata": {},
   "source": [
    "### Finding the Data"
   ]
  },
  {
   "cell_type": "markdown",
   "id": "3d1a060c",
   "metadata": {},
   "source": [
    "#### Webscraping"
   ]
  },
  {
   "cell_type": "markdown",
   "id": "2fbf8229",
   "metadata": {},
   "source": [
    "#### Datasets Kaggle"
   ]
  },
  {
   "cell_type": "markdown",
   "id": "ffc25e03",
   "metadata": {},
   "source": [
    "### Preprocessing the documents"
   ]
  },
  {
   "cell_type": "markdown",
   "id": "9ae93039",
   "metadata": {},
   "source": [
    "#### Splitting"
   ]
  },
  {
   "cell_type": "markdown",
   "id": "00bfbca2",
   "metadata": {},
   "source": [
    "#### Chunking"
   ]
  },
  {
   "cell_type": "markdown",
   "id": "eb47ab6a",
   "metadata": {},
   "source": [
    "#### Embedding"
   ]
  },
  {
   "cell_type": "markdown",
   "id": "00d238e7",
   "metadata": {},
   "source": [
    "### Storing Documents"
   ]
  },
  {
   "cell_type": "markdown",
   "id": "6a255cc0",
   "metadata": {},
   "source": [
    "#### Vector Databases"
   ]
  },
  {
   "cell_type": "markdown",
   "id": "45991c4f",
   "metadata": {},
   "source": [
    "#### Knowledge Graphs"
   ]
  },
  {
   "cell_type": "markdown",
   "id": "b154a1a8",
   "metadata": {},
   "source": [
    "#### SQL"
   ]
  },
  {
   "cell_type": "markdown",
   "id": "d8f8555b",
   "metadata": {},
   "source": [
    "### Retrieval Mechanisms"
   ]
  },
  {
   "cell_type": "markdown",
   "id": "f52ecc5a",
   "metadata": {},
   "source": [
    "#### Vector search"
   ]
  },
  {
   "cell_type": "markdown",
   "id": "4bdcdc80",
   "metadata": {},
   "source": [
    "#### Tree Search"
   ]
  },
  {
   "cell_type": "markdown",
   "id": "083ccf6a",
   "metadata": {},
   "source": [
    "#### Node Search"
   ]
  },
  {
   "cell_type": "markdown",
   "id": "6bb53c25",
   "metadata": {},
   "source": [
    "### Prompt Engineering"
   ]
  },
  {
   "cell_type": "markdown",
   "id": "df0edd85",
   "metadata": {},
   "source": [
    "#### Prompt chaining workflow"
   ]
  },
  {
   "cell_type": "markdown",
   "id": "6beac902",
   "metadata": {},
   "source": [
    "#### Routing Workflow"
   ]
  },
  {
   "cell_type": "markdown",
   "id": "edd982d2",
   "metadata": {},
   "source": [
    "#### Parallelization Workflow"
   ]
  },
  {
   "cell_type": "markdown",
   "id": "2c0092dd",
   "metadata": {},
   "source": [
    "#### Orchestrator Workers Workflow"
   ]
  },
  {
   "cell_type": "markdown",
   "id": "d4b9f725",
   "metadata": {},
   "source": [
    "#### Evaluator-optimizer workflow"
   ]
  },
  {
   "cell_type": "markdown",
   "id": "a0f82ea2",
   "metadata": {},
   "source": [
    "## A Complete Agentic System"
   ]
  },
  {
   "cell_type": "markdown",
   "id": "11448f82",
   "metadata": {},
   "source": [
    "## Limitations"
   ]
  },
  {
   "cell_type": "markdown",
   "id": "8adba2b0",
   "metadata": {},
   "source": [
    "## Summary"
   ]
  },
  {
   "cell_type": "markdown",
   "id": "d6403629",
   "metadata": {},
   "source": [
    "## Citations"
   ]
  }
 ],
 "metadata": {
  "language_info": {
   "name": "python"
  }
 },
 "nbformat": 4,
 "nbformat_minor": 5
}
