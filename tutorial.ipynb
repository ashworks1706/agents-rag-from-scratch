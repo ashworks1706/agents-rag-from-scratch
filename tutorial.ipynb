{
 "cells": [
  {
   "cell_type": "markdown",
   "id": "a36be9c2",
   "metadata": {},
   "source": [
    "# Agents and RAG, A Technical Deep Dive "
   ]
  },
  {
   "cell_type": "markdown",
   "id": "389560b9",
   "metadata": {},
   "source": [
    "In this notebook, i'll be using the Lang and Llama family for building and exploring RAG from scratch and the techniques we can do with Agents"
   ]
  },
  {
   "cell_type": "markdown",
   "id": "2aedb5de",
   "metadata": {},
   "source": [
    "### Brief History"
   ]
  },
  {
   "cell_type": "markdown",
   "id": "2b4eff09",
   "metadata": {},
   "source": [
    "The concept of intelligent agents has evolved dramatically over the past seven decades, transforming from simple rule-based systems to today's sophisticated AI companions that can reason, plan, and act autonomously. Understanding this progression is essential because it helps us appreciate why modern agentic systems represent such a significant breakthrough and why they're becoming central to how we build AI applications. The journey began in the 1950s when researchers like Allen Newell and Herbert Simon created the Logic Theorist, a program that could prove mathematical theorems by exploring different logical paths. These early agents were like skilled craftsmen—they could perform specific tasks very well, but only within narrow, pre-defined domains. The 1970s and 1980s brought expert systems like MYCIN for medical diagnosis and DENDRAL for chemical analysis. While impressive, these systems required months of manual knowledge engineering, where human experts had to explicitly encode their domain knowledge into rigid rule sets.\n",
    "\n",
    "The 1990s marked a shift toward more flexible software agents that could operate in networked environments and coordinate with other agents. This period introduced the concept of multi-agent systems, where multiple specialized agents could collaborate to solve complex problems. However, these systems still required extensive manual programming and could only handle situations their creators had anticipated. The real transformation began in the 2000s with machine learning advances. Agents could now learn from data rather than relying solely on hand-coded rules. Virtual assistants like Siri and Alexa brought agent technology to mainstream consumers, though they remained relatively narrow in scope—essentially sophisticated voice interfaces for search and simple task execution.\n",
    "\n",
    "<img src=\"https://miro.medium.com/1*Ygen57Qiyrc8DXAFsjZLNA.gif\" width=700>\n",
    "\n",
    "The breakthrough moment arrived with large language models starting around 2020. Systems like GPT-3 and GPT-4 combined vast knowledge with sophisticated reasoning abilities, creating agents that could understand natural language, maintain context across conversations, and tackle a wide variety of tasks without task-specific programming. Unlike their predecessors, these modern agents can break down complex problems into steps, use external tools when needed, and adapt to new situations they've never encountered before. This evolution represents a fundamental shift from automation to augmentation. Where early agents automated specific, predefined tasks, today's agents can understand our goals and work as collaborative partners in problem-solving. They can handle ambiguous instructions, incomplete information, and constantly changing contexts—capabilities that make them invaluable for building sophisticated applications like retrieval-augmented generation systems."
   ]
  },
  {
   "cell_type": "markdown",
   "id": "d0100815",
   "metadata": {},
   "source": [
    "## Agents"
   ]
  },
  {
   "cell_type": "markdown",
   "id": "4ed0b4ae",
   "metadata": {},
   "source": [
    "When we talk about agents in 2025, we're entering a landscape where the term has become both ubiquitous and somewhat ambiguous. Different organizations and researchers use \"agent\" to describe everything from simple chatbots to fully autonomous systems that can operate independently for weeks. This diversity in definition isn't just academic—it reflects fundamentally different architectural approaches that will determine how we build the next generation of AI applications.\n",
    "\n",
    "<img src=\"https://substackcdn.com/image/fetch/$s_!A_Oy!,f_auto,q_auto:good,fl_progressive:steep/https%3A%2F%2Fsubstack-post-media.s3.amazonaws.com%2Fpublic%2Fimages%2Fc3177e12-432e-4e41-814f-6febf7a35f68_1360x972.png\" width=700>\n",
    "\n",
    "At its core, an agent is a system that can perceive its environment, make decisions, and take actions to achieve specific goals. However, the way these capabilities are implemented varies dramatically. Some define agents as fully autonomous systems that operate independently over extended periods, using various tools and adapting their strategies based on feedback. Think of these like a personal assistant who can manage your entire schedule, book flights, handle emails, and make decisions on your behalf without constant supervision.\n",
    "\n",
    "Others use the term more broadly to describe any system that follows predefined workflows to accomplish tasks. These implementations are more like following a detailed recipe—each step is predetermined, and while the system can handle some variations, it operates within clearly defined boundaries. The distinction between these approaches is crucial because it affects everything from system reliability to development complexity.\n",
    "\n",
    "The most useful way to think about this spectrum is through the lens of control and decision-making. Workflows are systems where large language models and tools are orchestrated through predefined code paths. Every decision point is anticipated by the developer, and the system follows predetermined logic to handle different scenarios. Agents, in contrast, are systems where the LLM dynamically directs its own processes and tool usage, maintaining control over how it accomplishes tasks. The model itself decides what to do next, which tools to use, and how to adapt when things don't go as planned.\n",
    "\n",
    "#### Simplicity defines perfectionism not complexity\n",
    "\n",
    "\n",
    "When building applications with LLMs, the fundamental principle should be finding the simplest solution that meets your requirements. This might mean not building agentic systems at all. Agentic systems inherently trade latency and cost for better task performance, and you need to carefully consider when this tradeoff makes sense for your specific use case.\n",
    "\n",
    "When more complexity is warranted, workflows offer predictability and consistency for well-defined tasks where you can anticipate most scenarios and edge cases. They're excellent for standardized processes like data processing pipelines, content moderation, or structured analysis tasks. Agents become the better choice when you need flexibility and model-driven decision-making at scale—situations where the variety of inputs and required responses is too broad to predefine, or where the system needs to adapt to entirely new scenarios.\n",
    "\n",
    "The reality is that for many applications, the most effective approach involves optimizing single LLM calls with retrieval and in-context examples rather than building complex agentic systems. However, as we'll explore throughout this tutorial, there are compelling scenarios where the additional complexity of agents becomes not just beneficial, but necessary for achieving your goals. Understanding when and how to make this transition is what separates effective AI system builders from those who over-engineer solutions to problems that could be solved more simply.\n",
    "\n",
    "\n"
   ]
  },
  {
   "cell_type": "markdown",
   "id": "2d6bd7ab",
   "metadata": {},
   "source": [
    "#### Prompts\n"
   ]
  },
  {
   "cell_type": "markdown",
   "id": "88eb1b8e",
   "metadata": {},
   "source": []
  },
  {
   "cell_type": "markdown",
   "id": "074370da",
   "metadata": {},
   "source": [
    "##### LangChain PromptTemplate\n"
   ]
  },
  {
   "cell_type": "markdown",
   "id": "f2f65947",
   "metadata": {},
   "source": [
    "##### LangChain ChatPromptTemplate\n"
   ]
  },
  {
   "cell_type": "markdown",
   "id": "ab5ae2bd",
   "metadata": {},
   "source": [
    "##### LangGraph StateGraph Chains"
   ]
  },
  {
   "cell_type": "markdown",
   "id": "60bf486d",
   "metadata": {},
   "source": [
    "### Tools"
   ]
  },
  {
   "cell_type": "markdown",
   "id": "df0edd85",
   "metadata": {},
   "source": [
    "#### Context Management"
   ]
  },
  {
   "cell_type": "markdown",
   "id": "e0f12727",
   "metadata": {},
   "source": [
    "##### LangChain ConversationBufferMemory"
   ]
  },
  {
   "cell_type": "markdown",
   "id": "e7832c6b",
   "metadata": {},
   "source": [
    "##### LangChain ConversationSummaryMemory\n"
   ]
  },
  {
   "cell_type": "markdown",
   "id": "4bc1b74d",
   "metadata": {},
   "source": [
    "##### LangChain ConversationBufferWindowMemory\n"
   ]
  },
  {
   "cell_type": "markdown",
   "id": "f9966adc",
   "metadata": {},
   "source": [
    "##### LangChain ConversationTokenBufferMemory\n"
   ]
  },
  {
   "cell_type": "markdown",
   "id": "b5b91eec",
   "metadata": {},
   "source": [
    "##### LangGraph MemorySaver\n"
   ]
  },
  {
   "cell_type": "markdown",
   "id": "a76a3b30",
   "metadata": {},
   "source": [
    "##### LangGraph MessagesState\n"
   ]
  },
  {
   "cell_type": "markdown",
   "id": "298933fa",
   "metadata": {},
   "source": [
    "##### LlamaIndex ChatMemoryBuffer\n"
   ]
  },
  {
   "cell_type": "markdown",
   "id": "c6b69c7f",
   "metadata": {},
   "source": [
    "\n",
    "\n",
    "\n",
    "\n",
    "\n",
    "\n",
    "##### LlamaIndex VectorMemory"
   ]
  },
  {
   "cell_type": "markdown",
   "id": "6beac902",
   "metadata": {},
   "source": [
    "#### Routing Workflow\n",
    "\n"
   ]
  },
  {
   "cell_type": "markdown",
   "id": "edd982d2",
   "metadata": {},
   "source": [
    "##### Parallelization Workflow\n",
    "\n"
   ]
  },
  {
   "cell_type": "markdown",
   "id": "aa8e6ba0",
   "metadata": {},
   "source": [
    "##### LangGraph Parallel Execution\n"
   ]
  },
  {
   "cell_type": "markdown",
   "id": "4f939acc",
   "metadata": {},
   "source": [
    "##### LangChain RunnableParallel"
   ]
  },
  {
   "cell_type": "markdown",
   "id": "2c0092dd",
   "metadata": {},
   "source": [
    "#### Orchestrator Workers Workflow\n",
    "\n"
   ]
  },
  {
   "cell_type": "markdown",
   "id": "f52e371d",
   "metadata": {},
   "source": [
    "##### LangGraph Multi-Agent Patterns\n"
   ]
  },
  {
   "cell_type": "markdown",
   "id": "79e1de84",
   "metadata": {},
   "source": [
    "##### LangChain Agent Executors\n"
   ]
  },
  {
   "cell_type": "markdown",
   "id": "7e5567e2",
   "metadata": {},
   "source": [
    "##### LlamaIndex AgentRunner"
   ]
  },
  {
   "cell_type": "markdown",
   "id": "86dd518b",
   "metadata": {},
   "source": [
    "## RAG"
   ]
  },
  {
   "cell_type": "markdown",
   "id": "b89e3e6c",
   "metadata": {},
   "source": [
    "### But Why RAG?\n",
    "\n",
    "Talk about LLM system in general, while introducing agents, where those workflows lack the limit of llms in context and actions"
   ]
  },
  {
   "cell_type": "markdown",
   "id": "5cc169c2",
   "metadata": {},
   "source": [
    "### Finding the Data"
   ]
  },
  {
   "cell_type": "markdown",
   "id": "3d1a060c",
   "metadata": {},
   "source": [
    "#### Webscraping\n"
   ]
  },
  {
   "cell_type": "markdown",
   "id": "58c3655c",
   "metadata": {},
   "source": [
    "##### LangChain WebBaseLoader\n"
   ]
  },
  {
   "cell_type": "markdown",
   "id": "a3d21253",
   "metadata": {},
   "source": [
    "##### LangChain AsyncHtmlLoader\n"
   ]
  },
  {
   "cell_type": "markdown",
   "id": "6c76a4f4",
   "metadata": {},
   "source": [
    "##### LangChain SitemapLoader\n"
   ]
  },
  {
   "cell_type": "markdown",
   "id": "2016c6e8",
   "metadata": {},
   "source": [
    "##### LangChain PlaywrightURLLoader\n"
   ]
  },
  {
   "cell_type": "markdown",
   "id": "19028a8c",
   "metadata": {},
   "source": [
    "##### LlamaIndex SimpleWebPageReader\n"
   ]
  },
  {
   "cell_type": "markdown",
   "id": "326287d8",
   "metadata": {},
   "source": [
    "\n",
    "##### LlamaIndex BeautifulSoupWebReader"
   ]
  },
  {
   "cell_type": "markdown",
   "id": "599d7a17",
   "metadata": {},
   "source": [
    "#### Document Loading\n"
   ]
  },
  {
   "cell_type": "markdown",
   "id": "a9cc20e9",
   "metadata": {},
   "source": [
    "##### LangChain PyPDFLoader\n"
   ]
  },
  {
   "cell_type": "markdown",
   "id": "c6bb7df0",
   "metadata": {},
   "source": [
    "##### LangChain UnstructuredFileLoader\n"
   ]
  },
  {
   "cell_type": "markdown",
   "id": "12af53d8",
   "metadata": {},
   "source": [
    "##### LangChain CSVLoader\n"
   ]
  },
  {
   "cell_type": "markdown",
   "id": "af499259",
   "metadata": {},
   "source": [
    "##### LangChain JSONLoader\n"
   ]
  },
  {
   "cell_type": "markdown",
   "id": "70654f7e",
   "metadata": {},
   "source": [
    "##### LlamaIndex SimpleDirectoryReader\n"
   ]
  },
  {
   "cell_type": "markdown",
   "id": "f9a64221",
   "metadata": {},
   "source": [
    "##### LlamaIndex PDFReader"
   ]
  },
  {
   "cell_type": "markdown",
   "id": "ffc25e03",
   "metadata": {},
   "source": [
    "### Preprocessing the documents"
   ]
  },
  {
   "cell_type": "markdown",
   "id": "bafbf6bd",
   "metadata": {},
   "source": [
    "#### Splitting\n"
   ]
  },
  {
   "cell_type": "markdown",
   "id": "b5f88889",
   "metadata": {},
   "source": [
    "##### LangChain RecursiveCharacterTextSplitter\n"
   ]
  },
  {
   "cell_type": "markdown",
   "id": "c5a690a5",
   "metadata": {},
   "source": [
    "##### LangChain TokenTextSplitter\n"
   ]
  },
  {
   "cell_type": "markdown",
   "id": "48f31dec",
   "metadata": {},
   "source": [
    "##### LangChain MarkdownHeaderTextSplitter\n"
   ]
  },
  {
   "cell_type": "markdown",
   "id": "20168248",
   "metadata": {},
   "source": [
    "##### LangChain PythonCodeTextSplitter\n"
   ]
  },
  {
   "cell_type": "markdown",
   "id": "cca0bcfd",
   "metadata": {},
   "source": [
    "##### LlamaIndex SentenceSplitter\n"
   ]
  },
  {
   "cell_type": "markdown",
   "id": "dbe4dd95",
   "metadata": {},
   "source": [
    "##### LlamaIndex SemanticSplitterNodeParser\n"
   ]
  },
  {
   "cell_type": "markdown",
   "id": "32531064",
   "metadata": {},
   "source": [
    "##### LlamaIndex HierarchicalNodeParser"
   ]
  },
  {
   "cell_type": "markdown",
   "id": "00bfbca2",
   "metadata": {},
   "source": [
    "#### Chunking\n",
    "\n"
   ]
  },
  {
   "cell_type": "markdown",
   "id": "ccc8df09",
   "metadata": {},
   "source": [
    "##### LangChain SemanticChunker\n"
   ]
  },
  {
   "cell_type": "markdown",
   "id": "5a2d5275",
   "metadata": {},
   "source": [
    "##### LangChain ParentDocumentRetriever\n"
   ]
  },
  {
   "cell_type": "markdown",
   "id": "9fe7efeb",
   "metadata": {},
   "source": [
    "##### LlamaIndex SimpleNodeParser\n"
   ]
  },
  {
   "cell_type": "markdown",
   "id": "213b604a",
   "metadata": {},
   "source": [
    "##### LlamaIndex SentenceWindowNodeParser"
   ]
  },
  {
   "cell_type": "markdown",
   "id": "488d351c",
   "metadata": {},
   "source": [
    "#### Embedding\n"
   ]
  },
  {
   "cell_type": "markdown",
   "id": "8324ddcb",
   "metadata": {},
   "source": [
    "##### LangChain OpenAIEmbeddings\n"
   ]
  },
  {
   "cell_type": "markdown",
   "id": "c6ab8dda",
   "metadata": {},
   "source": [
    "##### LangChain HuggingFaceEmbeddings\n"
   ]
  },
  {
   "cell_type": "markdown",
   "id": "10ec7aca",
   "metadata": {},
   "source": [
    "##### LlamaIndex OpenAIEmbedding\n"
   ]
  },
  {
   "cell_type": "markdown",
   "id": "eb47ab6a",
   "metadata": {},
   "source": [
    "\n",
    "##### LlamaIndex HuggingFaceEmbedding"
   ]
  },
  {
   "cell_type": "markdown",
   "id": "00d238e7",
   "metadata": {},
   "source": [
    "### Storing Documents"
   ]
  },
  {
   "cell_type": "markdown",
   "id": "477119b6",
   "metadata": {},
   "source": [
    "#### Vector Databases\n"
   ]
  },
  {
   "cell_type": "markdown",
   "id": "30172c54",
   "metadata": {},
   "source": [
    "##### LangChain Chroma Integration\n"
   ]
  },
  {
   "cell_type": "markdown",
   "id": "64a76543",
   "metadata": {},
   "source": [
    "##### LangChain Pinecone Integration\n"
   ]
  },
  {
   "cell_type": "markdown",
   "id": "9b117522",
   "metadata": {},
   "source": [
    "##### LangChain FAISS Integration\n"
   ]
  },
  {
   "cell_type": "markdown",
   "id": "563d8c52",
   "metadata": {},
   "source": [
    "##### LlamaIndex ChromaVectorStore\n"
   ]
  },
  {
   "cell_type": "markdown",
   "id": "6a255cc0",
   "metadata": {},
   "source": [
    "\n",
    "##### LlamaIndex PineconeVectorStore"
   ]
  },
  {
   "cell_type": "markdown",
   "id": "608dc711",
   "metadata": {},
   "source": [
    "#### Knowledge Graphs\n"
   ]
  },
  {
   "cell_type": "markdown",
   "id": "2e862dd1",
   "metadata": {},
   "source": [
    "##### LangGraph StateGraph\n"
   ]
  },
  {
   "cell_type": "markdown",
   "id": "ec78022c",
   "metadata": {},
   "source": [
    "##### LangChain Neo4jGraph\n"
   ]
  },
  {
   "cell_type": "markdown",
   "id": "45991c4f",
   "metadata": {},
   "source": [
    "\n",
    "##### LlamaIndex KnowledgeGraphIndex"
   ]
  },
  {
   "cell_type": "markdown",
   "id": "f090d616",
   "metadata": {},
   "source": [
    "#### SQL\n"
   ]
  },
  {
   "cell_type": "markdown",
   "id": "b553ab93",
   "metadata": {},
   "source": [
    "##### LangChain SQLDatabase\n"
   ]
  },
  {
   "cell_type": "markdown",
   "id": "6465957c",
   "metadata": {},
   "source": [
    "##### LangChain SQLDatabaseChain\n"
   ]
  },
  {
   "cell_type": "markdown",
   "id": "b154a1a8",
   "metadata": {},
   "source": [
    "\n",
    "##### LlamaIndex SQLStructStoreIndex"
   ]
  },
  {
   "cell_type": "markdown",
   "id": "d8f8555b",
   "metadata": {},
   "source": [
    "### Retrieval Mechanisms"
   ]
  },
  {
   "cell_type": "markdown",
   "id": "7df26eae",
   "metadata": {},
   "source": [
    "#### Vector search\n"
   ]
  },
  {
   "cell_type": "markdown",
   "id": "52e03ebd",
   "metadata": {},
   "source": [
    "##### LangChain VectorStoreRetriever\n"
   ]
  },
  {
   "cell_type": "markdown",
   "id": "5668dc4c",
   "metadata": {},
   "source": [
    "##### LangChain MultiVectorRetriever\n"
   ]
  },
  {
   "cell_type": "markdown",
   "id": "6bf8b81f",
   "metadata": {},
   "source": [
    "##### LlamaIndex VectorIndexRetriever\n"
   ]
  },
  {
   "cell_type": "markdown",
   "id": "f52ecc5a",
   "metadata": {},
   "source": [
    "\n",
    "##### LlamaIndex VectorIndexAutoRetriever"
   ]
  },
  {
   "cell_type": "markdown",
   "id": "4bdcdc80",
   "metadata": {},
   "source": [
    "#### Tree Search"
   ]
  },
  {
   "cell_type": "markdown",
   "id": "083ccf6a",
   "metadata": {},
   "source": [
    "#### Node Search"
   ]
  },
  {
   "cell_type": "markdown",
   "id": "f86c0bcc",
   "metadata": {},
   "source": [
    "#### Hybrid Search\n",
    "\n",
    "##### LangChain EnsembleRetriever\n",
    "##### LangChain BM25Retriever\n",
    "##### LlamaIndex QueryFusionRetriever"
   ]
  },
  {
   "cell_type": "markdown",
   "id": "96e9945c",
   "metadata": {},
   "source": [
    "##### LangChain ConditionalEdge\n"
   ]
  },
  {
   "cell_type": "markdown",
   "id": "13c3f5c5",
   "metadata": {},
   "source": [
    "##### LangGraph Router Patterns\n"
   ]
  },
  {
   "cell_type": "markdown",
   "id": "99707a7f",
   "metadata": {},
   "source": [
    "##### LlamaIndex RouterQueryEngine"
   ]
  },
  {
   "cell_type": "markdown",
   "id": "fdbce248",
   "metadata": {},
   "source": [
    "### Evaluation"
   ]
  },
  {
   "cell_type": "markdown",
   "id": "0c2bacb9",
   "metadata": {},
   "source": [
    "#### Faithfulness & Accuracy"
   ]
  },
  {
   "cell_type": "markdown",
   "id": "f43b7c07",
   "metadata": {},
   "source": [
    "#### RAGAS (RAG Assessment)\n",
    "\n"
   ]
  },
  {
   "cell_type": "markdown",
   "id": "5d187128",
   "metadata": {},
   "source": [
    "##### LangSmith + RAGAS Integration\n"
   ]
  },
  {
   "cell_type": "markdown",
   "id": "ede3d6e4",
   "metadata": {},
   "source": [
    "##### LangChain Evaluation Chains"
   ]
  },
  {
   "cell_type": "markdown",
   "id": "b514c762",
   "metadata": {},
   "source": [
    "#### TruLens RAG Triad\n"
   ]
  },
  {
   "cell_type": "markdown",
   "id": "5ff2ef4c",
   "metadata": {},
   "source": [
    "#### Multi-Agent Metrics\n"
   ]
  },
  {
   "cell_type": "markdown",
   "id": "a315a255",
   "metadata": {},
   "source": [
    "#### Advanced Agentic Patterns"
   ]
  },
  {
   "cell_type": "markdown",
   "id": "a2815e8c",
   "metadata": {},
   "source": [
    "#### Human Evaluation\n"
   ]
  },
  {
   "cell_type": "markdown",
   "id": "1b7e2760",
   "metadata": {},
   "source": [
    "#### LLM-as-Judge\n",
    "\n"
   ]
  },
  {
   "cell_type": "markdown",
   "id": "7bdcbe94",
   "metadata": {},
   "source": [
    "##### LangSmith Tracing\n"
   ]
  },
  {
   "cell_type": "markdown",
   "id": "4e1a7f4c",
   "metadata": {},
   "source": [
    "##### LangSmith Evaluation Datasets\n"
   ]
  },
  {
   "cell_type": "markdown",
   "id": "cadb866f",
   "metadata": {},
   "source": [
    "##### LangSmith Custom Evaluators"
   ]
  },
  {
   "cell_type": "markdown",
   "id": "a0f82ea2",
   "metadata": {},
   "source": [
    "## A Complete Agentic System\n",
    "\n"
   ]
  },
  {
   "cell_type": "markdown",
   "id": "77a72785",
   "metadata": {},
   "source": [
    "##### LangGraph Agent Architecture\n"
   ]
  },
  {
   "cell_type": "markdown",
   "id": "b9799f18",
   "metadata": {},
   "source": [
    "##### LangChain Agent Types (ReAct, Plan-and-Execute)\n"
   ]
  },
  {
   "cell_type": "markdown",
   "id": "31925586",
   "metadata": {},
   "source": [
    "##### LangSmith Agent Monitoring\n"
   ]
  },
  {
   "cell_type": "markdown",
   "id": "26b5da5a",
   "metadata": {},
   "source": [
    "##### LlamaIndex Multi-Agent Orchestrator"
   ]
  },
  {
   "cell_type": "markdown",
   "id": "11448f82",
   "metadata": {},
   "source": [
    "## Limitations & Variations"
   ]
  },
  {
   "cell_type": "markdown",
   "id": "0927ba15",
   "metadata": {},
   "source": [
    "#### RAPTOR"
   ]
  },
  {
   "cell_type": "markdown",
   "id": "9f9a3d4e",
   "metadata": {},
   "source": [
    "#### Self-RAG"
   ]
  },
  {
   "cell_type": "markdown",
   "id": "8ec8d098",
   "metadata": {},
   "source": [
    "#### CRAG"
   ]
  },
  {
   "cell_type": "markdown",
   "id": "73d56e81",
   "metadata": {},
   "source": [
    "#### Adaptive RAG"
   ]
  },
  {
   "cell_type": "markdown",
   "id": "8adba2b0",
   "metadata": {},
   "source": [
    "## Summary"
   ]
  },
  {
   "cell_type": "markdown",
   "id": "d6403629",
   "metadata": {},
   "source": [
    "## Citations"
   ]
  }
 ],
 "metadata": {
  "language_info": {
   "name": "python"
  }
 },
 "nbformat": 4,
 "nbformat_minor": 5
}
